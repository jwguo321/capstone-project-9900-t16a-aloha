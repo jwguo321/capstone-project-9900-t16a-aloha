{
 "cells": [
  {
   "cell_type": "code",
   "execution_count": 38,
   "id": "timely-senator",
   "metadata": {},
   "outputs": [],
   "source": [
    "import pandas as pd\n",
    "import numpy as np\n",
    "from sklearn.feature_extraction.text import CountVectorizer\n",
    "from sklearn.metrics.pairwise import cosine_similarity\n",
    "import seaborn as sns\n",
    "import matplotlib.pylab as plt"
   ]
  },
  {
   "cell_type": "code",
   "execution_count": 39,
   "id": "norman-tribute",
   "metadata": {},
   "outputs": [],
   "source": [
    "nike_df = pd.read_csv(\"dataset/nike_2020_04_13.csv\")\n",
    "adidas_df = pd.read_csv(\"dataset/Adidas final.csv\", delimiter=\";\")"
   ]
  },
  {
   "cell_type": "code",
   "execution_count": 40,
   "id": "functioning-chess",
   "metadata": {},
   "outputs": [],
   "source": [
    "useful_cols = [\"Product Name\", \"Sale Price\", \"Brand\", \"Description\"]\n",
    "my_nike  = nike_df[useful_cols]\n",
    "my_adidas = adidas_df[useful_cols]"
   ]
  },
  {
   "cell_type": "code",
   "execution_count": 41,
   "id": "handmade-corps",
   "metadata": {},
   "outputs": [],
   "source": [
    "def checkNull(df, features):\n",
    "    for col in features:\n",
    "        print(col + \" \" + str(df[col].isnull().sum()))\n",
    "        \n",
    "def fillNull(df, features):\n",
    "    for feature in useful_cols:\n",
    "        my_nike[feature] = my_nike[feature].fillna('')\n",
    "        \n",
    "def combined_features(row):\n",
    "    res = \"\"\n",
    "    for feature in useful_cols:\n",
    "        res += str(row[feature]) + \" \"\n",
    "    return res"
   ]
  },
  {
   "cell_type": "code",
   "execution_count": 42,
   "id": "spare-regression",
   "metadata": {},
   "outputs": [
    {
     "name": "stdout",
     "output_type": "stream",
     "text": [
      "Product Name 0\n",
      "Sale Price 0\n",
      "Brand 0\n",
      "Description 3\n"
     ]
    }
   ],
   "source": [
    "checkNull(my_nike, useful_cols)"
   ]
  },
  {
   "cell_type": "code",
   "execution_count": 43,
   "id": "simple-messenger",
   "metadata": {},
   "outputs": [
    {
     "name": "stdout",
     "output_type": "stream",
     "text": [
      "Product Name 0\n",
      "Sale Price 0\n",
      "Brand 0\n",
      "Description 0\n"
     ]
    }
   ],
   "source": [
    "checkNull(my_adidas, useful_cols)"
   ]
  },
  {
   "cell_type": "code",
   "execution_count": 44,
   "id": "thousand-concord",
   "metadata": {},
   "outputs": [
    {
     "name": "stderr",
     "output_type": "stream",
     "text": [
      "<ipython-input-41-fc0638aee030>:7: SettingWithCopyWarning: \n",
      "A value is trying to be set on a copy of a slice from a DataFrame.\n",
      "Try using .loc[row_indexer,col_indexer] = value instead\n",
      "\n",
      "See the caveats in the documentation: https://pandas.pydata.org/pandas-docs/stable/user_guide/indexing.html#returning-a-view-versus-a-copy\n",
      "  my_nike[feature] = my_nike[feature].fillna('')\n"
     ]
    }
   ],
   "source": [
    "fillNull(my_nike, useful_cols)\n",
    "fillNull(my_adidas, useful_cols)"
   ]
  },
  {
   "cell_type": "code",
   "execution_count": 45,
   "id": "accessible-outdoors",
   "metadata": {},
   "outputs": [
    {
     "name": "stderr",
     "output_type": "stream",
     "text": [
      "<ipython-input-45-dd096ee1de36>:1: SettingWithCopyWarning: \n",
      "A value is trying to be set on a copy of a slice from a DataFrame.\n",
      "Try using .loc[row_indexer,col_indexer] = value instead\n",
      "\n",
      "See the caveats in the documentation: https://pandas.pydata.org/pandas-docs/stable/user_guide/indexing.html#returning-a-view-versus-a-copy\n",
      "  my_nike[\"combined_features\"] = my_nike.apply(combined_features, axis =1)\n",
      "<ipython-input-45-dd096ee1de36>:2: SettingWithCopyWarning: \n",
      "A value is trying to be set on a copy of a slice from a DataFrame.\n",
      "Try using .loc[row_indexer,col_indexer] = value instead\n",
      "\n",
      "See the caveats in the documentation: https://pandas.pydata.org/pandas-docs/stable/user_guide/indexing.html#returning-a-view-versus-a-copy\n",
      "  my_adidas[\"combined_features\"] = my_adidas.apply(combined_features, axis =1)\n"
     ]
    }
   ],
   "source": [
    "my_nike[\"combined_features\"] = my_nike.apply(combined_features, axis =1)\n",
    "my_adidas[\"combined_features\"] = my_adidas.apply(combined_features, axis =1)"
   ]
  },
  {
   "cell_type": "code",
   "execution_count": 46,
   "id": "incoming-kelly",
   "metadata": {},
   "outputs": [],
   "source": [
    "my_products = pd.concat([my_nike, my_adidas], ignore_index=True)"
   ]
  },
  {
   "cell_type": "code",
   "execution_count": 47,
   "id": "shared-luxury",
   "metadata": {},
   "outputs": [
    {
     "name": "stdout",
     "output_type": "stream",
     "text": [
      "Count Matrix: [[0 0 0 ... 0 0 0]\n",
      " [0 0 0 ... 0 0 0]\n",
      " [0 0 0 ... 0 0 0]\n",
      " ...\n",
      " [0 0 0 ... 0 0 0]\n",
      " [0 0 0 ... 0 0 0]\n",
      " [0 0 0 ... 0 0 0]]\n"
     ]
    }
   ],
   "source": [
    "cv = CountVectorizer(stop_words='english')\n",
    "count_matrix = cv.fit_transform(my_products[\"combined_features\"])\n",
    "print(\"Count Matrix:\", count_matrix.toarray())"
   ]
  },
  {
   "cell_type": "code",
   "execution_count": 49,
   "id": "structural-poster",
   "metadata": {},
   "outputs": [
    {
     "data": {
      "text/plain": [
       "4750"
      ]
     },
     "execution_count": 49,
     "metadata": {},
     "output_type": "execute_result"
    }
   ],
   "source": [
    "vectorizer = CountVectorizer(stop_words='english')\n",
    "vectorizer.fit(my_products[\"combined_features\"])\n",
    "len(vectorizer.get_feature_names())"
   ]
  },
  {
   "cell_type": "code",
   "execution_count": 51,
   "id": "copyrighted-withdrawal",
   "metadata": {},
   "outputs": [],
   "source": [
    "from sklearn.feature_extraction.text import TfidfVectorizer\n",
    "tf_vectorizer = TfidfVectorizer(stop_words='english')\n",
    "tf_vectorizer.fit(my_products[\"combined_features\"])\n",
    "vector_spaces = tf_vectorizer.transform(my_products[\"combined_features\"])"
   ]
  },
  {
   "cell_type": "code",
   "execution_count": 53,
   "id": "published-decline",
   "metadata": {},
   "outputs": [
    {
     "data": {
      "text/plain": [
       "array([[0., 0., 0., ..., 0., 0., 0.],\n",
       "       [0., 0., 0., ..., 0., 0., 0.],\n",
       "       [0., 0., 0., ..., 0., 0., 0.],\n",
       "       ...,\n",
       "       [0., 0., 0., ..., 0., 0., 0.],\n",
       "       [0., 0., 0., ..., 0., 0., 0.],\n",
       "       [0., 0., 0., ..., 0., 0., 0.]])"
      ]
     },
     "execution_count": 53,
     "metadata": {},
     "output_type": "execute_result"
    }
   ],
   "source": [
    "vector_spaces.toarray()"
   ]
  },
  {
   "cell_type": "code",
   "execution_count": 56,
   "id": "ancient-endorsement",
   "metadata": {},
   "outputs": [
    {
     "data": {
      "text/plain": [
       "3268"
      ]
     },
     "execution_count": 56,
     "metadata": {},
     "output_type": "execute_result"
    }
   ],
   "source": [
    "len(count_matrix.toarray())"
   ]
  },
  {
   "cell_type": "code",
   "execution_count": 57,
   "id": "proprietary-doctor",
   "metadata": {},
   "outputs": [
    {
     "data": {
      "text/plain": [
       "3268"
      ]
     },
     "execution_count": 57,
     "metadata": {},
     "output_type": "execute_result"
    }
   ],
   "source": [
    "len(vector_spaces.toarray())"
   ]
  },
  {
   "cell_type": "code",
   "execution_count": 58,
   "id": "painted-fleet",
   "metadata": {},
   "outputs": [],
   "source": [
    "tf_cosine_sim = cosine_similarity(vector_spaces)\n",
    "tf_products = list(enumerate(tf_cosine_sim[1]))\n",
    "tf_sorted_similar_movies = sorted(tf_products, key=lambda x:x[1], reverse=True)"
   ]
  },
  {
   "cell_type": "code",
   "execution_count": 64,
   "id": "higher-packaging",
   "metadata": {},
   "outputs": [
    {
     "data": {
      "text/plain": [
       "[(172, 0.7771855298198772),\n",
       " (316, 0.7535082902268035),\n",
       " (18, 0.7474575021641137),\n",
       " (433, 0.7467330852711282),\n",
       " (553, 0.6577354095527589),\n",
       " (11, 0.6216601325226891),\n",
       " (0, 0.5487546748561601),\n",
       " (143, 0.548036485587108)]"
      ]
     },
     "execution_count": 64,
     "metadata": {},
     "output_type": "execute_result"
    }
   ],
   "source": [
    "tf_sorted_similar_movies[1:9]"
   ]
  },
  {
   "cell_type": "code",
   "execution_count": 22,
   "id": "minor-rubber",
   "metadata": {},
   "outputs": [],
   "source": [
    "cosine_sim = cosine_similarity(count_matrix)"
   ]
  },
  {
   "cell_type": "code",
   "execution_count": 23,
   "id": "commercial-numbers",
   "metadata": {},
   "outputs": [
    {
     "data": {
      "text/plain": [
       "array([[1.        , 0.62589878, 0.40369868, ..., 0.21630814, 0.13795154,\n",
       "        0.19002385],\n",
       "       [0.62589878, 1.        , 0.39186207, ..., 0.2119221 , 0.10916311,\n",
       "        0.17184995],\n",
       "       [0.40369868, 0.39186207, 1.        , ..., 0.22080322, 0.09857281,\n",
       "        0.21983576],\n",
       "       ...,\n",
       "       [0.21630814, 0.2119221 , 0.22080322, ..., 1.        , 0.34582476,\n",
       "        0.42068384],\n",
       "       [0.13795154, 0.10916311, 0.09857281, ..., 0.34582476, 1.        ,\n",
       "        0.3176117 ],\n",
       "       [0.19002385, 0.17184995, 0.21983576, ..., 0.42068384, 0.3176117 ,\n",
       "        1.        ]])"
      ]
     },
     "execution_count": 23,
     "metadata": {},
     "output_type": "execute_result"
    }
   ],
   "source": [
    "cosine_sim"
   ]
  },
  {
   "cell_type": "code",
   "execution_count": 24,
   "id": "narrow-scholarship",
   "metadata": {},
   "outputs": [],
   "source": [
    "similar_movies = list(enumerate(cosine_sim[1]))"
   ]
  },
  {
   "cell_type": "code",
   "execution_count": 28,
   "id": "liberal-family",
   "metadata": {},
   "outputs": [],
   "source": [
    "sorted_similar_movies = sorted(similar_movies, key=lambda x:x[1], reverse=True)"
   ]
  },
  {
   "cell_type": "code",
   "execution_count": 65,
   "id": "activated-water",
   "metadata": {},
   "outputs": [
    {
     "data": {
      "text/plain": [
       "[(172, 0.8571817324793919),\n",
       " (316, 0.8369171530598073),\n",
       " (433, 0.8369171530598073),\n",
       " (18, 0.8296455196719188),\n",
       " (553, 0.7614553930883753),\n",
       " (11, 0.720069696319024),\n",
       " (267, 0.6902628054688186),\n",
       " (143, 0.6866171722688431)]"
      ]
     },
     "execution_count": 65,
     "metadata": {},
     "output_type": "execute_result"
    }
   ],
   "source": [
    "sorted_similar_movies[1:9]"
   ]
  },
  {
   "cell_type": "code",
   "execution_count": 67,
   "id": "functioning-league",
   "metadata": {},
   "outputs": [
    {
     "data": {
      "text/plain": [
       "Product Name                                      Nike Air Force 1 '07\n",
       "Sale Price                                                        7495\n",
       "Brand                                                             Nike\n",
       "Description          The legend lives on in the Nike Air Force 1 '0...\n",
       "combined_features    Nike Air Force 1 '07 7495 Nike The legend live...\n",
       "Name: 1, dtype: object"
      ]
     },
     "execution_count": 67,
     "metadata": {},
     "output_type": "execute_result"
    }
   ],
   "source": [
    "my_products.iloc[1]"
   ]
  },
  {
   "cell_type": "code",
   "execution_count": 68,
   "id": "functioning-correlation",
   "metadata": {},
   "outputs": [
    {
     "data": {
      "text/plain": [
       "Product Name                                  Nike Air Force 1 Mid '07\n",
       "Sale Price                                                        6317\n",
       "Brand                                                             Nike\n",
       "Description          The legend lives on in the Nike Air Force 1 Mi...\n",
       "combined_features    Nike Air Force 1 Mid '07 6317 Nike The legend ...\n",
       "Name: 433, dtype: object"
      ]
     },
     "execution_count": 68,
     "metadata": {},
     "output_type": "execute_result"
    }
   ],
   "source": [
    "my_products.iloc[433]"
   ]
  },
  {
   "cell_type": "code",
   "execution_count": 69,
   "id": "incoming-objective",
   "metadata": {},
   "outputs": [
    {
     "data": {
      "text/plain": [
       "Product Name                                      Nike Air Force 1 '07\n",
       "Sale Price                                                        7995\n",
       "Brand                                                             Nike\n",
       "Description          The legend lives on in the Nike Air Force 1 '0...\n",
       "combined_features    Nike Air Force 1 '07 7995 Nike The legend live...\n",
       "Name: 18, dtype: object"
      ]
     },
     "execution_count": 69,
     "metadata": {},
     "output_type": "execute_result"
    }
   ],
   "source": [
    "my_products.iloc[18]"
   ]
  },
  {
   "cell_type": "code",
   "execution_count": 70,
   "id": "coastal-venture",
   "metadata": {},
   "outputs": [
    {
     "data": {
      "text/plain": [
       "Product Name                            Nike Air Force 1 '07 Essential\n",
       "Sale Price                                                        7495\n",
       "Brand                                                             Nike\n",
       "Description          Let your shoe game shimmer in the Nike Air For...\n",
       "combined_features    Nike Air Force 1 '07 Essential 7495 Nike Let y...\n",
       "Name: 0, dtype: object"
      ]
     },
     "execution_count": 70,
     "metadata": {},
     "output_type": "execute_result"
    }
   ],
   "source": [
    "my_products.iloc[0]"
   ]
  },
  {
   "cell_type": "code",
   "execution_count": 71,
   "id": "flexible-treasury",
   "metadata": {},
   "outputs": [
    {
     "data": {
      "text/plain": [
       "Product Name                                            Jordan Max 200\n",
       "Sale Price                                                       10495\n",
       "Brand                                                             Nike\n",
       "Description          With design elements inspired by the Air Jorda...\n",
       "combined_features    Jordan Max 200 10495 Nike With design elements...\n",
       "Name: 257, dtype: object"
      ]
     },
     "execution_count": 71,
     "metadata": {},
     "output_type": "execute_result"
    }
   ],
   "source": [
    "my_products.iloc[257]"
   ]
  },
  {
   "cell_type": "code",
   "execution_count": null,
   "id": "agricultural-calgary",
   "metadata": {},
   "outputs": [],
   "source": []
  }
 ],
 "metadata": {
  "kernelspec": {
   "display_name": "Python 3",
   "language": "python",
   "name": "python3"
  },
  "language_info": {
   "codemirror_mode": {
    "name": "ipython",
    "version": 3
   },
   "file_extension": ".py",
   "mimetype": "text/x-python",
   "name": "python",
   "nbconvert_exporter": "python",
   "pygments_lexer": "ipython3",
   "version": "3.8.5"
  }
 },
 "nbformat": 4,
 "nbformat_minor": 5
}

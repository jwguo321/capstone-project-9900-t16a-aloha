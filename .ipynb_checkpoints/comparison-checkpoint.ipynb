{
 "cells": [
  {
   "cell_type": "code",
   "execution_count": 1,
   "id": "perceived-input",
   "metadata": {},
   "outputs": [],
   "source": [
    "import pandas as pd\n",
    "import numpy as np\n",
    "from sklearn.feature_extraction.text import CountVectorizer\n",
    "from sklearn.metrics.pairwise import cosine_similarity\n",
    "import seaborn as sns\n",
    "import matplotlib.pylab as plt"
   ]
  },
  {
   "cell_type": "code",
   "execution_count": 2,
   "id": "continent-recruitment",
   "metadata": {},
   "outputs": [],
   "source": [
    "nike_df = pd.read_csv(\"dataset/nike_2020_04_13.csv\")\n",
    "adidas_df = pd.read_csv(\"dataset/Adidas final.csv\", delimiter=\";\")"
   ]
  },
  {
   "cell_type": "code",
   "execution_count": null,
   "id": "vertical-hands",
   "metadata": {},
   "outputs": [],
   "source": []
  },
  {
   "cell_type": "code",
   "execution_count": 8,
   "id": "noted-extra",
   "metadata": {},
   "outputs": [],
   "source": [
    "useful_cols = [\"Product Name\", \"Sale Price\", \"Brand\", \"Description\",\"Product ID\"]\n",
    "my_nike  = nike_df[useful_cols]\n",
    "my_adidas = adidas_df[useful_cols]"
   ]
  },
  {
   "cell_type": "code",
   "execution_count": 9,
   "id": "configured-drinking",
   "metadata": {},
   "outputs": [],
   "source": [
    "def checkNull(df, features):\n",
    "    for col in features:\n",
    "        print(col + \" \" + str(df[col].isnull().sum()))\n",
    "        \n",
    "def fillNull(df, features):\n",
    "    for feature in useful_cols:\n",
    "        my_nike[feature] = my_nike[feature].fillna('')\n",
    "        \n",
    "def combined_features(row, combine_cols):\n",
    "    res = \"\"\n",
    "    for feature in combine_cols:\n",
    "        res += str(row[feature]) + \" \"\n",
    "    return res"
   ]
  },
  {
   "cell_type": "code",
   "execution_count": 5,
   "id": "furnished-baltimore",
   "metadata": {},
   "outputs": [
    {
     "name": "stdout",
     "output_type": "stream",
     "text": [
      "Product Name 0\n",
      "Sale Price 0\n",
      "Brand 0\n",
      "Description 3\n"
     ]
    }
   ],
   "source": [
    "checkNull(my_nike, useful_cols)"
   ]
  },
  {
   "cell_type": "code",
   "execution_count": 6,
   "id": "random-madonna",
   "metadata": {},
   "outputs": [
    {
     "name": "stdout",
     "output_type": "stream",
     "text": [
      "Product Name 0\n",
      "Sale Price 0\n",
      "Brand 0\n",
      "Description 0\n"
     ]
    }
   ],
   "source": [
    "checkNull(my_adidas, useful_cols)"
   ]
  },
  {
   "cell_type": "code",
   "execution_count": 7,
   "id": "sorted-building",
   "metadata": {},
   "outputs": [
    {
     "name": "stderr",
     "output_type": "stream",
     "text": [
      "<ipython-input-4-fc0638aee030>:7: SettingWithCopyWarning: \n",
      "A value is trying to be set on a copy of a slice from a DataFrame.\n",
      "Try using .loc[row_indexer,col_indexer] = value instead\n",
      "\n",
      "See the caveats in the documentation: https://pandas.pydata.org/pandas-docs/stable/user_guide/indexing.html#returning-a-view-versus-a-copy\n",
      "  my_nike[feature] = my_nike[feature].fillna('')\n"
     ]
    }
   ],
   "source": [
    "fillNull(my_nike, useful_cols)\n",
    "fillNull(my_adidas, useful_cols)"
   ]
  },
  {
   "cell_type": "code",
   "execution_count": 8,
   "id": "generic-level",
   "metadata": {},
   "outputs": [
    {
     "name": "stderr",
     "output_type": "stream",
     "text": [
      "<ipython-input-8-dd096ee1de36>:1: SettingWithCopyWarning: \n",
      "A value is trying to be set on a copy of a slice from a DataFrame.\n",
      "Try using .loc[row_indexer,col_indexer] = value instead\n",
      "\n",
      "See the caveats in the documentation: https://pandas.pydata.org/pandas-docs/stable/user_guide/indexing.html#returning-a-view-versus-a-copy\n",
      "  my_nike[\"combined_features\"] = my_nike.apply(combined_features, axis =1)\n",
      "<ipython-input-8-dd096ee1de36>:2: SettingWithCopyWarning: \n",
      "A value is trying to be set on a copy of a slice from a DataFrame.\n",
      "Try using .loc[row_indexer,col_indexer] = value instead\n",
      "\n",
      "See the caveats in the documentation: https://pandas.pydata.org/pandas-docs/stable/user_guide/indexing.html#returning-a-view-versus-a-copy\n",
      "  my_adidas[\"combined_features\"] = my_adidas.apply(combined_features, axis =1)\n"
     ]
    }
   ],
   "source": [
    "my_nike[\"combined_features\"] = my_nike.apply(combined_features, axis =1)\n",
    "my_adidas[\"combined_features\"] = my_adidas.apply(combined_features, axis =1)"
   ]
  },
  {
   "cell_type": "code",
   "execution_count": 9,
   "id": "saving-general",
   "metadata": {},
   "outputs": [],
   "source": [
    "my_products = pd.concat([my_nike, my_adidas], ignore_index=True)"
   ]
  },
  {
   "cell_type": "code",
   "execution_count": 10,
   "id": "pressing-minute",
   "metadata": {},
   "outputs": [
    {
     "name": "stdout",
     "output_type": "stream",
     "text": [
      "Count Matrix: [[0 0 0 ... 0 0 0]\n",
      " [0 0 0 ... 0 0 0]\n",
      " [0 0 0 ... 0 0 0]\n",
      " ...\n",
      " [0 0 0 ... 0 0 0]\n",
      " [0 0 0 ... 0 0 0]\n",
      " [0 0 0 ... 0 0 0]]\n"
     ]
    }
   ],
   "source": [
    "cv = CountVectorizer(stop_words='english')\n",
    "count_matrix = cv.fit_transform(my_products[\"combined_features\"])\n",
    "print(\"Count Matrix:\", count_matrix.toarray())"
   ]
  },
  {
   "cell_type": "code",
   "execution_count": 11,
   "id": "found-leisure",
   "metadata": {},
   "outputs": [
    {
     "data": {
      "text/plain": [
       "4750"
      ]
     },
     "execution_count": 11,
     "metadata": {},
     "output_type": "execute_result"
    }
   ],
   "source": [
    "vectorizer = CountVectorizer(stop_words='english')\n",
    "vectorizer.fit(my_products[\"combined_features\"])\n",
    "len(vectorizer.get_feature_names())"
   ]
  },
  {
   "cell_type": "code",
   "execution_count": 12,
   "id": "august-pound",
   "metadata": {},
   "outputs": [],
   "source": [
    "from sklearn.feature_extraction.text import TfidfVectorizer\n",
    "tf_vectorizer = TfidfVectorizer(stop_words='english')\n",
    "tf_vectorizer.fit(my_products[\"combined_features\"])\n",
    "vector_spaces = tf_vectorizer.transform(my_products[\"combined_features\"])"
   ]
  },
  {
   "cell_type": "code",
   "execution_count": 13,
   "id": "gorgeous-liberia",
   "metadata": {},
   "outputs": [
    {
     "data": {
      "text/plain": [
       "array([[0., 0., 0., ..., 0., 0., 0.],\n",
       "       [0., 0., 0., ..., 0., 0., 0.],\n",
       "       [0., 0., 0., ..., 0., 0., 0.],\n",
       "       ...,\n",
       "       [0., 0., 0., ..., 0., 0., 0.],\n",
       "       [0., 0., 0., ..., 0., 0., 0.],\n",
       "       [0., 0., 0., ..., 0., 0., 0.]])"
      ]
     },
     "execution_count": 13,
     "metadata": {},
     "output_type": "execute_result"
    }
   ],
   "source": [
    "vector_spaces.toarray()"
   ]
  },
  {
   "cell_type": "code",
   "execution_count": null,
   "id": "forty-transport",
   "metadata": {},
   "outputs": [],
   "source": []
  },
  {
   "cell_type": "code",
   "execution_count": 14,
   "id": "elder-flooring",
   "metadata": {},
   "outputs": [
    {
     "data": {
      "text/plain": [
       "3268"
      ]
     },
     "execution_count": 14,
     "metadata": {},
     "output_type": "execute_result"
    }
   ],
   "source": [
    "len(vector_spaces.toarray())"
   ]
  },
  {
   "cell_type": "code",
   "execution_count": 15,
   "id": "rapid-cinema",
   "metadata": {},
   "outputs": [],
   "source": [
    "tf_cosine_sim = cosine_similarity(vector_spaces)\n",
    "tf_products = list(enumerate(tf_cosine_sim[1]))\n",
    "tf_sorted_similar_products = sorted(tf_products, key=lambda x:x[1], reverse=True)"
   ]
  },
  {
   "cell_type": "code",
   "execution_count": 16,
   "id": "vocational-barcelona",
   "metadata": {},
   "outputs": [
    {
     "data": {
      "text/plain": [
       "[(172, 0.7771855298198772),\n",
       " (316, 0.7535082902268035),\n",
       " (18, 0.7474575021641137),\n",
       " (433, 0.7467330852711282),\n",
       " (553, 0.6577354095527589),\n",
       " (11, 0.6216601325226891),\n",
       " (0, 0.5487546748561601),\n",
       " (143, 0.548036485587108)]"
      ]
     },
     "execution_count": 16,
     "metadata": {},
     "output_type": "execute_result"
    }
   ],
   "source": [
    "tf_sorted_similar_products[1:9]"
   ]
  },
  {
   "cell_type": "code",
   "execution_count": 17,
   "id": "objective-grant",
   "metadata": {},
   "outputs": [],
   "source": [
    "cosine_sim = cosine_similarity(count_matrix)"
   ]
  },
  {
   "cell_type": "code",
   "execution_count": 18,
   "id": "proof-container",
   "metadata": {},
   "outputs": [
    {
     "data": {
      "text/plain": [
       "array([[1.        , 0.63305416, 0.40657856, ..., 0.04767313, 0.02635231,\n",
       "        0.02076137],\n",
       "       [0.63305416, 1.        , 0.42276002, ..., 0.02624319, 0.        ,\n",
       "        0.        ],\n",
       "       [0.40657856, 0.42276002, 1.        , ..., 0.06460957, 0.02380952,\n",
       "        0.01875806],\n",
       "       ...,\n",
       "       [0.04767313, 0.02624319, 0.06460957, ..., 1.        , 0.25125945,\n",
       "        0.29692784],\n",
       "       [0.02635231, 0.        , 0.02380952, ..., 0.25125945, 1.        ,\n",
       "        0.21884405],\n",
       "       [0.02076137, 0.        , 0.01875806, ..., 0.29692784, 0.21884405,\n",
       "        1.        ]])"
      ]
     },
     "execution_count": 18,
     "metadata": {},
     "output_type": "execute_result"
    }
   ],
   "source": [
    "cosine_sim"
   ]
  },
  {
   "cell_type": "code",
   "execution_count": 19,
   "id": "personal-concentration",
   "metadata": {},
   "outputs": [],
   "source": [
    "similar_shoes = list(enumerate(cosine_sim[1]))"
   ]
  },
  {
   "cell_type": "code",
   "execution_count": 20,
   "id": "planned-survey",
   "metadata": {},
   "outputs": [],
   "source": [
    "sorted_similar_shoes = sorted(similar_shoes, key=lambda x:x[1], reverse=True)"
   ]
  },
  {
   "cell_type": "code",
   "execution_count": 21,
   "id": "paperback-massachusetts",
   "metadata": {},
   "outputs": [
    {
     "data": {
      "text/plain": [
       "[(1, 1.0),\n",
       " (172, 0.8484848484848485),\n",
       " (18, 0.8379305815963923),\n",
       " (316, 0.8189346173511123),\n",
       " (433, 0.8189346173511123),\n",
       " (553, 0.7526178090063818),\n",
       " (11, 0.6777389936698861),\n",
       " (143, 0.6524726973924443),\n",
       " (36, 0.6411188743387697)]"
      ]
     },
     "execution_count": 21,
     "metadata": {},
     "output_type": "execute_result"
    }
   ],
   "source": [
    "sorted_similar_shoes[0:9]"
   ]
  },
  {
   "cell_type": "code",
   "execution_count": 22,
   "id": "round-nevada",
   "metadata": {},
   "outputs": [
    {
     "data": {
      "text/plain": [
       "Product Name                                      Nike Air Force 1 '07\n",
       "Sale Price                                                        7495\n",
       "Brand                                                             Nike\n",
       "Description          The legend lives on in the Nike Air Force 1 '0...\n",
       "combined_features    Nike Air Force 1 '07 7495 Nike The legend live...\n",
       "Name: 1, dtype: object"
      ]
     },
     "execution_count": 22,
     "metadata": {},
     "output_type": "execute_result"
    }
   ],
   "source": [
    "my_products.iloc[1]"
   ]
  },
  {
   "cell_type": "code",
   "execution_count": 23,
   "id": "swedish-stock",
   "metadata": {},
   "outputs": [
    {
     "data": {
      "text/plain": [
       "Product Name                                Nike Air Force 1 Low Retro\n",
       "Sale Price                                                       10995\n",
       "Brand                                                             Nike\n",
       "Description          The legend lives on in the Nike Air Force 1 '0...\n",
       "combined_features    Nike Air Force 1 Low Retro 10995 Nike The lege...\n",
       "Name: 172, dtype: object"
      ]
     },
     "execution_count": 23,
     "metadata": {},
     "output_type": "execute_result"
    }
   ],
   "source": [
    "my_products.iloc[172]"
   ]
  },
  {
   "cell_type": "code",
   "execution_count": 24,
   "id": "reserved-soviet",
   "metadata": {},
   "outputs": [
    {
     "data": {
      "text/plain": [
       "Product Name                                  Nike Air Force 1 '07 LV8\n",
       "Sale Price                                                        7595\n",
       "Brand                                                             Nike\n",
       "Description          The Nike Air Force 1 '07 LV8 incorporates the ...\n",
       "combined_features    Nike Air Force 1 '07 LV8 7595 Nike The Nike Ai...\n",
       "Name: 36, dtype: object"
      ]
     },
     "execution_count": 24,
     "metadata": {},
     "output_type": "execute_result"
    }
   ],
   "source": [
    "my_products.iloc[36]"
   ]
  },
  {
   "cell_type": "code",
   "execution_count": 25,
   "id": "polished-tolerance",
   "metadata": {},
   "outputs": [
    {
     "data": {
      "text/plain": [
       "Product Name                            Nike Air Force 1 '07 Essential\n",
       "Sale Price                                                        7495\n",
       "Brand                                                             Nike\n",
       "Description          Let your shoe game shimmer in the Nike Air For...\n",
       "combined_features    Nike Air Force 1 '07 Essential 7495 Nike Let y...\n",
       "Name: 0, dtype: object"
      ]
     },
     "execution_count": 25,
     "metadata": {},
     "output_type": "execute_result"
    }
   ],
   "source": [
    "my_products.iloc[0]"
   ]
  },
  {
   "cell_type": "code",
   "execution_count": 26,
   "id": "strategic-merchandise",
   "metadata": {},
   "outputs": [
    {
     "data": {
      "text/plain": [
       "Product Name                                            Jordan Max 200\n",
       "Sale Price                                                       10495\n",
       "Brand                                                             Nike\n",
       "Description          With design elements inspired by the Air Jorda...\n",
       "combined_features    Jordan Max 200 10495 Nike With design elements...\n",
       "Name: 257, dtype: object"
      ]
     },
     "execution_count": 26,
     "metadata": {},
     "output_type": "execute_result"
    }
   ],
   "source": [
    "my_products.iloc[257]"
   ]
  },
  {
   "cell_type": "code",
   "execution_count": null,
   "id": "signed-amsterdam",
   "metadata": {},
   "outputs": [],
   "source": []
  }
 ],
 "metadata": {
  "kernelspec": {
   "display_name": "Python 3",
   "language": "python",
   "name": "python3"
  },
  "language_info": {
   "codemirror_mode": {
    "name": "ipython",
    "version": 3
   },
   "file_extension": ".py",
   "mimetype": "text/x-python",
   "name": "python",
   "nbconvert_exporter": "python",
   "pygments_lexer": "ipython3",
   "version": "3.8.5"
  }
 },
 "nbformat": 4,
 "nbformat_minor": 5
}

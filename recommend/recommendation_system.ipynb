{
 "cells": [
  {
   "cell_type": "code",
   "execution_count": 1,
   "id": "alert-security",
   "metadata": {},
   "outputs": [],
   "source": [
    "import pandas as pd\n",
    "import numpy as np"
   ]
  },
  {
   "cell_type": "code",
   "execution_count": 2,
   "id": "clinical-plant",
   "metadata": {},
   "outputs": [],
   "source": [
    "nike_df = pd.read_csv(\"dataset/nike_2020_04_13.csv\")\n",
    "adidas_df = pd.read_csv(\"dataset/Adidas final.csv\", delimiter=\";\")"
   ]
  },
  {
   "cell_type": "code",
   "execution_count": 3,
   "id": "hungry-occupation",
   "metadata": {},
   "outputs": [
    {
     "name": "stdout",
     "output_type": "stream",
     "text": [
      "<class 'pandas.core.frame.DataFrame'>\n",
      "RangeIndex: 2625 entries, 0 to 2624\n",
      "Data columns (total 12 columns):\n",
      " #   Column         Non-Null Count  Dtype \n",
      "---  ------         --------------  ----- \n",
      " 0   URL            2625 non-null   object\n",
      " 1   Product Name   2625 non-null   object\n",
      " 2   Product ID     2625 non-null   object\n",
      " 3   Listing Price  2625 non-null   int64 \n",
      " 4   Sale Price     2625 non-null   int64 \n",
      " 5   Discount       2625 non-null   int64 \n",
      " 6   Brand          2625 non-null   object\n",
      " 7   Description    2625 non-null   object\n",
      " 8   Rating         2625 non-null   int64 \n",
      " 9   Reviews        2625 non-null   int64 \n",
      " 10  Images         2625 non-null   object\n",
      " 11  Last Visited   2625 non-null   object\n",
      "dtypes: int64(5), object(7)\n",
      "memory usage: 246.2+ KB\n"
     ]
    }
   ],
   "source": [
    "adidas_df.info()"
   ]
  },
  {
   "cell_type": "code",
   "execution_count": 4,
   "id": "distinguished-chicken",
   "metadata": {},
   "outputs": [
    {
     "name": "stdout",
     "output_type": "stream",
     "text": [
      "<class 'pandas.core.frame.DataFrame'>\n",
      "RangeIndex: 643 entries, 0 to 642\n",
      "Data columns (total 12 columns):\n",
      " #   Column         Non-Null Count  Dtype  \n",
      "---  ------         --------------  -----  \n",
      " 0   URL            643 non-null    object \n",
      " 1   Product Name   643 non-null    object \n",
      " 2   Product ID     643 non-null    object \n",
      " 3   Listing Price  643 non-null    int64  \n",
      " 4   Sale Price     643 non-null    int64  \n",
      " 5   Discount       643 non-null    int64  \n",
      " 6   Brand          643 non-null    object \n",
      " 7   Description    640 non-null    object \n",
      " 8   Rating         643 non-null    float64\n",
      " 9   Reviews        643 non-null    int64  \n",
      " 10  Images         572 non-null    object \n",
      " 11  Last Visited   643 non-null    object \n",
      "dtypes: float64(1), int64(4), object(7)\n",
      "memory usage: 60.4+ KB\n"
     ]
    }
   ],
   "source": [
    "nike_df.info()"
   ]
  },
  {
   "cell_type": "code",
   "execution_count": 6,
   "id": "seventh-sister",
   "metadata": {},
   "outputs": [],
   "source": [
    "useful_cols = [\"Product Name\", \"Product ID\", \"Sale Price\", \"Brand\", \"Description\"]\n",
    "my_nike  = nike_df[useful_cols]"
   ]
  },
  {
   "cell_type": "code",
   "execution_count": 7,
   "id": "dedicated-belize",
   "metadata": {},
   "outputs": [
    {
     "data": {
      "text/plain": [
       "False"
      ]
     },
     "execution_count": 7,
     "metadata": {},
     "output_type": "execute_result"
    }
   ],
   "source": [
    "my_nike[\"Sale Price\"].isnull().values.any()"
   ]
  },
  {
   "cell_type": "code",
   "execution_count": 13,
   "id": "indian-roommate",
   "metadata": {},
   "outputs": [
    {
     "name": "stdout",
     "output_type": "stream",
     "text": [
      "Product Name 0\n",
      "Product ID 0\n",
      "Sale Price 0\n",
      "Brand 0\n",
      "Description 3\n"
     ]
    }
   ],
   "source": [
    "for col in useful_cols:\n",
    "    print(col + \" \" + str(my_nike[col].isnull().sum()))"
   ]
  },
  {
   "cell_type": "code",
   "execution_count": 9,
   "id": "considered-exhaust",
   "metadata": {},
   "outputs": [
    {
     "data": {
      "text/html": [
       "<div>\n",
       "<style scoped>\n",
       "    .dataframe tbody tr th:only-of-type {\n",
       "        vertical-align: middle;\n",
       "    }\n",
       "\n",
       "    .dataframe tbody tr th {\n",
       "        vertical-align: top;\n",
       "    }\n",
       "\n",
       "    .dataframe thead th {\n",
       "        text-align: right;\n",
       "    }\n",
       "</style>\n",
       "<table border=\"1\" class=\"dataframe\">\n",
       "  <thead>\n",
       "    <tr style=\"text-align: right;\">\n",
       "      <th></th>\n",
       "      <th>Product Name</th>\n",
       "      <th>Product ID</th>\n",
       "      <th>Sale Price</th>\n",
       "      <th>Brand</th>\n",
       "      <th>Description</th>\n",
       "    </tr>\n",
       "  </thead>\n",
       "  <tbody>\n",
       "    <tr>\n",
       "      <th>155</th>\n",
       "      <td>Nike React Infinity Run Flyknit</td>\n",
       "      <td>CD4371-001</td>\n",
       "      <td>13995</td>\n",
       "      <td>Nike</td>\n",
       "      <td>NaN</td>\n",
       "    </tr>\n",
       "    <tr>\n",
       "      <th>263</th>\n",
       "      <td>Nike React Infinity Run Flyknit</td>\n",
       "      <td>CD4372-004</td>\n",
       "      <td>13995</td>\n",
       "      <td>Nike</td>\n",
       "      <td>NaN</td>\n",
       "    </tr>\n",
       "    <tr>\n",
       "      <th>508</th>\n",
       "      <td>Nike Free X Metcon 2</td>\n",
       "      <td>CD8526-446</td>\n",
       "      <td>9995</td>\n",
       "      <td>Nike</td>\n",
       "      <td>NaN</td>\n",
       "    </tr>\n",
       "  </tbody>\n",
       "</table>\n",
       "</div>"
      ],
      "text/plain": [
       "                        Product Name  Product ID  Sale Price Brand Description\n",
       "155  Nike React Infinity Run Flyknit  CD4371-001       13995  Nike         NaN\n",
       "263  Nike React Infinity Run Flyknit  CD4372-004       13995  Nike         NaN\n",
       "508             Nike Free X Metcon 2  CD8526-446        9995  Nike         NaN"
      ]
     },
     "execution_count": 9,
     "metadata": {},
     "output_type": "execute_result"
    }
   ],
   "source": [
    "my_nike[my_nike.isna().any(axis=1)]"
   ]
  },
  {
   "cell_type": "code",
   "execution_count": 15,
   "id": "adopted-marketplace",
   "metadata": {},
   "outputs": [
    {
     "name": "stderr",
     "output_type": "stream",
     "text": [
      "<ipython-input-15-5727e342ca68>:2: SettingWithCopyWarning: \n",
      "A value is trying to be set on a copy of a slice from a DataFrame.\n",
      "Try using .loc[row_indexer,col_indexer] = value instead\n",
      "\n",
      "See the caveats in the documentation: https://pandas.pydata.org/pandas-docs/stable/user_guide/indexing.html#returning-a-view-versus-a-copy\n",
      "  my_nike[feature] = my_nike[feature].fillna('')\n"
     ]
    }
   ],
   "source": [
    "for feature in useful_cols:\n",
    "    my_nike[feature] = my_nike[feature].fillna('')"
   ]
  },
  {
   "cell_type": "code",
   "execution_count": 17,
   "id": "cardiac-arizona",
   "metadata": {},
   "outputs": [
    {
     "name": "stdout",
     "output_type": "stream",
     "text": [
      "Product Name 0\n",
      "Product ID 0\n",
      "Sale Price 0\n",
      "Brand 0\n",
      "Description 0\n"
     ]
    }
   ],
   "source": [
    "for col in useful_cols:\n",
    "    print(col + \" \" + str(my_nike[col].isnull().sum()))"
   ]
  },
  {
   "cell_type": "code",
   "execution_count": 20,
   "id": "regular-selection",
   "metadata": {},
   "outputs": [
    {
     "name": "stdout",
     "output_type": "stream",
     "text": [
      "<class 'pandas.core.frame.DataFrame'>\n",
      "RangeIndex: 643 entries, 0 to 642\n",
      "Data columns (total 5 columns):\n",
      " #   Column        Non-Null Count  Dtype \n",
      "---  ------        --------------  ----- \n",
      " 0   Product Name  643 non-null    object\n",
      " 1   Product ID    643 non-null    object\n",
      " 2   Sale Price    643 non-null    int64 \n",
      " 3   Brand         643 non-null    object\n",
      " 4   Description   643 non-null    object\n",
      "dtypes: int64(1), object(4)\n",
      "memory usage: 25.2+ KB\n"
     ]
    }
   ],
   "source": [
    "my_nike.info()"
   ]
  },
  {
   "cell_type": "code",
   "execution_count": 21,
   "id": "experimental-monthly",
   "metadata": {},
   "outputs": [],
   "source": [
    "# \"Product Name\", \"Product ID\", \"Sale Price\", \"Brand\", \"Description\"\n",
    "def combined_features(row):\n",
    "    return row['Product Name']+\" \"+str(row['Sale Price'])+\" \"+row['Brand']+\" \"+row['Description']"
   ]
  },
  {
   "cell_type": "code",
   "execution_count": 22,
   "id": "forbidden-coaching",
   "metadata": {},
   "outputs": [
    {
     "name": "stderr",
     "output_type": "stream",
     "text": [
      "<ipython-input-22-f73ff0d15cf4>:1: SettingWithCopyWarning: \n",
      "A value is trying to be set on a copy of a slice from a DataFrame.\n",
      "Try using .loc[row_indexer,col_indexer] = value instead\n",
      "\n",
      "See the caveats in the documentation: https://pandas.pydata.org/pandas-docs/stable/user_guide/indexing.html#returning-a-view-versus-a-copy\n",
      "  my_nike[\"combined_features\"] = my_nike.apply(combined_features, axis =1)\n"
     ]
    }
   ],
   "source": [
    "my_nike[\"combined_features\"] = my_nike.apply(combined_features, axis =1)"
   ]
  },
  {
   "cell_type": "code",
   "execution_count": 24,
   "id": "coupled-victorian",
   "metadata": {},
   "outputs": [
    {
     "data": {
      "text/plain": [
       "\"Nike Air Force 1 '07 Essential 7495 Nike Let your shoe game shimmer in the Nike Air Force 1 '07 Essential. It takes the classic AF-1 design to the next level with its premium leather upper and iridescent Swoosh.\""
      ]
     },
     "execution_count": 24,
     "metadata": {},
     "output_type": "execute_result"
    }
   ],
   "source": [
    "my_nike.iloc[0]['combined_features']"
   ]
  },
  {
   "cell_type": "code",
   "execution_count": 25,
   "id": "leading-sodium",
   "metadata": {},
   "outputs": [],
   "source": [
    "from sklearn.feature_extraction.text import CountVectorizer\n",
    "from sklearn.metrics.pairwise import cosine_similarity"
   ]
  },
  {
   "cell_type": "code",
   "execution_count": 1,
   "id": "smart-scotland",
   "metadata": {},
   "outputs": [
    {
     "ename": "NameError",
     "evalue": "name 'CountVectorizer' is not defined",
     "output_type": "error",
     "traceback": [
      "\u001b[0;31m---------------------------------------------------------------------------\u001b[0m",
      "\u001b[0;31mNameError\u001b[0m                                 Traceback (most recent call last)",
      "\u001b[0;32m<ipython-input-1-c7cf2aaaa24a>\u001b[0m in \u001b[0;36m<module>\u001b[0;34m\u001b[0m\n\u001b[0;32m----> 1\u001b[0;31m \u001b[0mcv\u001b[0m \u001b[0;34m=\u001b[0m \u001b[0mCountVectorizer\u001b[0m\u001b[0;34m(\u001b[0m\u001b[0mstop_word\u001b[0m\u001b[0;34m=\u001b[0m\u001b[0;34m'english'\u001b[0m\u001b[0;34m)\u001b[0m\u001b[0;34m\u001b[0m\u001b[0;34m\u001b[0m\u001b[0m\n\u001b[0m\u001b[1;32m      2\u001b[0m \u001b[0mcount_matrix\u001b[0m \u001b[0;34m=\u001b[0m \u001b[0mcv\u001b[0m\u001b[0;34m.\u001b[0m\u001b[0mfit_transform\u001b[0m\u001b[0;34m(\u001b[0m\u001b[0mmy_nike\u001b[0m\u001b[0;34m[\u001b[0m\u001b[0;34m\"combined_features\"\u001b[0m\u001b[0;34m]\u001b[0m\u001b[0;34m)\u001b[0m\u001b[0;34m\u001b[0m\u001b[0;34m\u001b[0m\u001b[0m\n\u001b[1;32m      3\u001b[0m \u001b[0mprint\u001b[0m\u001b[0;34m(\u001b[0m\u001b[0;34m\"Count Matrix:\"\u001b[0m\u001b[0;34m,\u001b[0m \u001b[0mcount_matrix\u001b[0m\u001b[0;34m.\u001b[0m\u001b[0mtoarray\u001b[0m\u001b[0;34m(\u001b[0m\u001b[0;34m)\u001b[0m\u001b[0;34m)\u001b[0m\u001b[0;34m\u001b[0m\u001b[0;34m\u001b[0m\u001b[0m\n",
      "\u001b[0;31mNameError\u001b[0m: name 'CountVectorizer' is not defined"
     ]
    }
   ],
   "source": [
    "cv = CountVectorizer(stop_word='english')\n",
    "count_matrix = cv.fit_transform(my_nike[\"combined_features\"])\n",
    "print(\"Count Matrix:\", count_matrix.toarray())"
   ]
  },
  {
   "cell_type": "code",
   "execution_count": 27,
   "id": "japanese-deposit",
   "metadata": {},
   "outputs": [],
   "source": [
    "cosine_sim = cosine_similarity(count_matrix)"
   ]
  },
  {
   "cell_type": "code",
   "execution_count": 29,
   "id": "optimum-speech",
   "metadata": {},
   "outputs": [],
   "source": [
    "import seaborn as sns\n",
    "import matplotlib.pylab as plt"
   ]
  },
  {
   "cell_type": "code",
   "execution_count": 37,
   "id": "relevant-impossible",
   "metadata": {},
   "outputs": [
    {
     "data": {
      "text/plain": [
       "array([[1.        , 0.6491507 , 0.41718848, ..., 0.37851665, 0.52654816,\n",
       "        0.32748932],\n",
       "       [0.6491507 , 1.        , 0.40576303, ..., 0.38110797, 0.54371495,\n",
       "        0.32698355],\n",
       "       [0.41718848, 0.40576303, 1.        , ..., 0.24002743, 0.38437111,\n",
       "        0.32881028],\n",
       "       ...,\n",
       "       [0.37851665, 0.38110797, 0.24002743, ..., 1.        , 0.46549167,\n",
       "        0.33646329],\n",
       "       [0.52654816, 0.54371495, 0.38437111, ..., 0.46549167, 1.        ,\n",
       "        0.39366865],\n",
       "       [0.32748932, 0.32698355, 0.32881028, ..., 0.33646329, 0.39366865,\n",
       "        1.        ]])"
      ]
     },
     "execution_count": 37,
     "metadata": {},
     "output_type": "execute_result"
    }
   ],
   "source": []
  },
  {
   "cell_type": "code",
   "execution_count": 38,
   "id": "regular-orange",
   "metadata": {},
   "outputs": [],
   "source": [
    "similar_movies = list(enumerate(cosine_sim[1]))"
   ]
  },
  {
   "cell_type": "code",
   "execution_count": 39,
   "id": "broke-article",
   "metadata": {},
   "outputs": [],
   "source": [
    "sorted_similar_movies = sorted(similar_movies, key=lambda x:x[1], reverse=True)"
   ]
  },
  {
   "cell_type": "code",
   "execution_count": 41,
   "id": "attempted-married",
   "metadata": {},
   "outputs": [
    {
     "data": {
      "text/plain": [
       "(172, 0.8911327886790066)"
      ]
     },
     "execution_count": 41,
     "metadata": {},
     "output_type": "execute_result"
    }
   ],
   "source": [
    "sorted_similar_movies[1]"
   ]
  },
  {
   "cell_type": "code",
   "execution_count": 42,
   "id": "generic-hospital",
   "metadata": {},
   "outputs": [
    {
     "data": {
      "text/plain": [
       "Product Name                                      Nike Air Force 1 '07\n",
       "Product ID                                                  CT4328-101\n",
       "Sale Price                                                        7495\n",
       "Brand                                                             Nike\n",
       "Description          The legend lives on in the Nike Air Force 1 '0...\n",
       "combined_features    Nike Air Force 1 '07 7495 Nike The legend live...\n",
       "Name: 1, dtype: object"
      ]
     },
     "execution_count": 42,
     "metadata": {},
     "output_type": "execute_result"
    }
   ],
   "source": [
    "my_nike.iloc[1]"
   ]
  },
  {
   "cell_type": "code",
   "execution_count": 43,
   "id": "billion-corpus",
   "metadata": {},
   "outputs": [
    {
     "data": {
      "text/plain": [
       "Product Name                                Nike Air Force 1 Low Retro\n",
       "Product ID                                                  CQ0492-001\n",
       "Sale Price                                                       10995\n",
       "Brand                                                             Nike\n",
       "Description          The legend lives on in the Nike Air Force 1 '0...\n",
       "combined_features    Nike Air Force 1 Low Retro 10995 Nike The lege...\n",
       "Name: 172, dtype: object"
      ]
     },
     "execution_count": 43,
     "metadata": {},
     "output_type": "execute_result"
    }
   ],
   "source": [
    "my_nike.iloc[172]"
   ]
  },
  {
   "cell_type": "code",
   "execution_count": null,
   "id": "prostate-precipitation",
   "metadata": {},
   "outputs": [],
   "source": []
  }
 ],
 "metadata": {
  "kernelspec": {
   "display_name": "Python 3",
   "language": "python",
   "name": "python3"
  },
  "language_info": {
   "codemirror_mode": {
    "name": "ipython",
    "version": 3
   },
   "file_extension": ".py",
   "mimetype": "text/x-python",
   "name": "python",
   "nbconvert_exporter": "python",
   "pygments_lexer": "ipython3",
   "version": "3.8.5"
  }
 },
 "nbformat": 4,
 "nbformat_minor": 5
}

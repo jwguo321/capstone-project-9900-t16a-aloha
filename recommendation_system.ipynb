{
 "cells": [
  {
   "cell_type": "code",
   "execution_count": 1,
   "id": "alert-security",
   "metadata": {},
   "outputs": [],
   "source": [
    "import pandas as pd\n",
    "import numpy as np"
   ]
  },
  {
   "cell_type": "code",
   "execution_count": 14,
   "id": "clinical-plant",
   "metadata": {},
   "outputs": [],
   "source": [
    "nike_df = pd.read_csv(\"dataset/nike_2020_04_13.csv\")\n",
    "adidas_df = pd.read_csv(\"dataset/Adidas final.csv\", delimiter=\";\")"
   ]
  },
  {
   "cell_type": "code",
   "execution_count": 16,
   "id": "hungry-occupation",
   "metadata": {},
   "outputs": [
    {
     "name": "stdout",
     "output_type": "stream",
     "text": [
      "<class 'pandas.core.frame.DataFrame'>\n",
      "RangeIndex: 2625 entries, 0 to 2624\n",
      "Data columns (total 12 columns):\n",
      " #   Column         Non-Null Count  Dtype \n",
      "---  ------         --------------  ----- \n",
      " 0   URL            2625 non-null   object\n",
      " 1   Product Name   2625 non-null   object\n",
      " 2   Product ID     2625 non-null   object\n",
      " 3   Listing Price  2625 non-null   int64 \n",
      " 4   Sale Price     2625 non-null   int64 \n",
      " 5   Discount       2625 non-null   int64 \n",
      " 6   Brand          2625 non-null   object\n",
      " 7   Description    2625 non-null   object\n",
      " 8   Rating         2625 non-null   int64 \n",
      " 9   Reviews        2625 non-null   int64 \n",
      " 10  Images         2625 non-null   object\n",
      " 11  Last Visited   2625 non-null   object\n",
      "dtypes: int64(5), object(7)\n",
      "memory usage: 246.2+ KB\n"
     ]
    }
   ],
   "source": [
    "adidas_df.info()"
   ]
  },
  {
   "cell_type": "code",
   "execution_count": 17,
   "id": "distinguished-chicken",
   "metadata": {},
   "outputs": [
    {
     "name": "stdout",
     "output_type": "stream",
     "text": [
      "<class 'pandas.core.frame.DataFrame'>\n",
      "RangeIndex: 643 entries, 0 to 642\n",
      "Data columns (total 12 columns):\n",
      " #   Column         Non-Null Count  Dtype  \n",
      "---  ------         --------------  -----  \n",
      " 0   URL            643 non-null    object \n",
      " 1   Product Name   643 non-null    object \n",
      " 2   Product ID     643 non-null    object \n",
      " 3   Listing Price  643 non-null    int64  \n",
      " 4   Sale Price     643 non-null    int64  \n",
      " 5   Discount       643 non-null    int64  \n",
      " 6   Brand          643 non-null    object \n",
      " 7   Description    640 non-null    object \n",
      " 8   Rating         643 non-null    float64\n",
      " 9   Reviews        643 non-null    int64  \n",
      " 10  Images         572 non-null    object \n",
      " 11  Last Visited   643 non-null    object \n",
      "dtypes: float64(1), int64(4), object(7)\n",
      "memory usage: 60.4+ KB\n"
     ]
    }
   ],
   "source": [
    "nike_df.info()"
   ]
  },
  {
   "cell_type": "code",
   "execution_count": 25,
   "id": "seventh-sister",
   "metadata": {},
   "outputs": [],
   "source": [
    "usefuk_cols = [\"Product Name\", \"Product ID\", \"Sale Price\", \"Brand\", \"Description\"]\n",
    "my_nike  = nike_df[usefuk_cols]"
   ]
  },
  {
   "cell_type": "code",
   "execution_count": 30,
   "id": "dedicated-belize",
   "metadata": {},
   "outputs": [
    {
     "data": {
      "text/plain": [
       "False"
      ]
     },
     "execution_count": 30,
     "metadata": {},
     "output_type": "execute_result"
    }
   ],
   "source": [
    "my_nike[\"Sale Price\"].isnull().values.any()"
   ]
  },
  {
   "cell_type": "code",
   "execution_count": 36,
   "id": "indian-roommate",
   "metadata": {},
   "outputs": [
    {
     "data": {
      "text/plain": [
       "3"
      ]
     },
     "execution_count": 36,
     "metadata": {},
     "output_type": "execute_result"
    }
   ],
   "source": [
    "my_nike['Description'].isnull().sum()"
   ]
  },
  {
   "cell_type": "code",
   "execution_count": 37,
   "id": "considered-exhaust",
   "metadata": {},
   "outputs": [
    {
     "data": {
      "text/html": [
       "<div>\n",
       "<style scoped>\n",
       "    .dataframe tbody tr th:only-of-type {\n",
       "        vertical-align: middle;\n",
       "    }\n",
       "\n",
       "    .dataframe tbody tr th {\n",
       "        vertical-align: top;\n",
       "    }\n",
       "\n",
       "    .dataframe thead th {\n",
       "        text-align: right;\n",
       "    }\n",
       "</style>\n",
       "<table border=\"1\" class=\"dataframe\">\n",
       "  <thead>\n",
       "    <tr style=\"text-align: right;\">\n",
       "      <th></th>\n",
       "      <th>Product Name</th>\n",
       "      <th>Product ID</th>\n",
       "      <th>Sale Price</th>\n",
       "      <th>Brand</th>\n",
       "      <th>Description</th>\n",
       "    </tr>\n",
       "  </thead>\n",
       "  <tbody>\n",
       "    <tr>\n",
       "      <th>155</th>\n",
       "      <td>Nike React Infinity Run Flyknit</td>\n",
       "      <td>CD4371-001</td>\n",
       "      <td>13995</td>\n",
       "      <td>Nike</td>\n",
       "      <td>NaN</td>\n",
       "    </tr>\n",
       "    <tr>\n",
       "      <th>263</th>\n",
       "      <td>Nike React Infinity Run Flyknit</td>\n",
       "      <td>CD4372-004</td>\n",
       "      <td>13995</td>\n",
       "      <td>Nike</td>\n",
       "      <td>NaN</td>\n",
       "    </tr>\n",
       "    <tr>\n",
       "      <th>508</th>\n",
       "      <td>Nike Free X Metcon 2</td>\n",
       "      <td>CD8526-446</td>\n",
       "      <td>9995</td>\n",
       "      <td>Nike</td>\n",
       "      <td>NaN</td>\n",
       "    </tr>\n",
       "  </tbody>\n",
       "</table>\n",
       "</div>"
      ],
      "text/plain": [
       "                        Product Name  Product ID  Sale Price Brand Description\n",
       "155  Nike React Infinity Run Flyknit  CD4371-001       13995  Nike         NaN\n",
       "263  Nike React Infinity Run Flyknit  CD4372-004       13995  Nike         NaN\n",
       "508             Nike Free X Metcon 2  CD8526-446        9995  Nike         NaN"
      ]
     },
     "execution_count": 37,
     "metadata": {},
     "output_type": "execute_result"
    }
   ],
   "source": [
    "my_nike[my_nike.isna().any(axis=1)]"
   ]
  },
  {
   "cell_type": "code",
   "execution_count": 51,
   "id": "adopted-marketplace",
   "metadata": {},
   "outputs": [
    {
     "data": {
      "text/html": [
       "<div>\n",
       "<style scoped>\n",
       "    .dataframe tbody tr th:only-of-type {\n",
       "        vertical-align: middle;\n",
       "    }\n",
       "\n",
       "    .dataframe tbody tr th {\n",
       "        vertical-align: top;\n",
       "    }\n",
       "\n",
       "    .dataframe thead th {\n",
       "        text-align: right;\n",
       "    }\n",
       "</style>\n",
       "<table border=\"1\" class=\"dataframe\">\n",
       "  <thead>\n",
       "    <tr style=\"text-align: right;\">\n",
       "      <th></th>\n",
       "      <th>Product Name</th>\n",
       "      <th>Product ID</th>\n",
       "      <th>Sale Price</th>\n",
       "      <th>Brand</th>\n",
       "      <th>Description</th>\n",
       "    </tr>\n",
       "  </thead>\n",
       "  <tbody>\n",
       "    <tr>\n",
       "      <th>7</th>\n",
       "      <td>Nike Free Metcon 3</td>\n",
       "      <td>CJ0861-017</td>\n",
       "      <td>9995</td>\n",
       "      <td>Nike</td>\n",
       "      <td>The Nike Free Metcon 3 combines Nike Free flex...</td>\n",
       "    </tr>\n",
       "    <tr>\n",
       "      <th>11</th>\n",
       "      <td>Nike Air Force 1 '07</td>\n",
       "      <td>315115-112</td>\n",
       "      <td>7495</td>\n",
       "      <td>Nike</td>\n",
       "      <td>The radiance lives on in the Nike Air Force 1 ...</td>\n",
       "    </tr>\n",
       "    <tr>\n",
       "      <th>16</th>\n",
       "      <td>Nike Air Max 270 React ENG</td>\n",
       "      <td>CK2608-100</td>\n",
       "      <td>14995</td>\n",
       "      <td>Nike</td>\n",
       "      <td>Refresh your step in the Nike Air Max 270 Reac...</td>\n",
       "    </tr>\n",
       "    <tr>\n",
       "      <th>18</th>\n",
       "      <td>Nike Air Force 1 '07</td>\n",
       "      <td>CJ1379-001</td>\n",
       "      <td>7995</td>\n",
       "      <td>Nike</td>\n",
       "      <td>The legend lives on in the Nike Air Force 1 '0...</td>\n",
       "    </tr>\n",
       "    <tr>\n",
       "      <th>20</th>\n",
       "      <td>Nike Air Max 97</td>\n",
       "      <td>CT4525-001</td>\n",
       "      <td>15995</td>\n",
       "      <td>Nike</td>\n",
       "      <td>Remastered from the OG that shook up the runni...</td>\n",
       "    </tr>\n",
       "    <tr>\n",
       "      <th>...</th>\n",
       "      <td>...</td>\n",
       "      <td>...</td>\n",
       "      <td>...</td>\n",
       "      <td>...</td>\n",
       "      <td>...</td>\n",
       "    </tr>\n",
       "    <tr>\n",
       "      <th>636</th>\n",
       "      <td>Kyrie 6 'Enlightenment'</td>\n",
       "      <td>BQ4630-500</td>\n",
       "      <td>8797</td>\n",
       "      <td>Nike</td>\n",
       "      <td>In spiritual circles, the colour purple repres...</td>\n",
       "    </tr>\n",
       "    <tr>\n",
       "      <th>637</th>\n",
       "      <td>Nike React Metcon AMP</td>\n",
       "      <td>CT9155-063</td>\n",
       "      <td>13995</td>\n",
       "      <td>Nike</td>\n",
       "      <td>The Nike React Metcon AMP takes the stability ...</td>\n",
       "    </tr>\n",
       "    <tr>\n",
       "      <th>639</th>\n",
       "      <td>Nike Phantom Venom Club IC</td>\n",
       "      <td>AO0578-717</td>\n",
       "      <td>3497</td>\n",
       "      <td>Nike</td>\n",
       "      <td>The Nike Phantom Venom Club IC is engineered f...</td>\n",
       "    </tr>\n",
       "    <tr>\n",
       "      <th>640</th>\n",
       "      <td>Nike Mercurial Superfly 7 Academy TF</td>\n",
       "      <td>AT7978-414</td>\n",
       "      <td>5947</td>\n",
       "      <td>Nike</td>\n",
       "      <td>The soft upper of the Nike Mercurial Superfly ...</td>\n",
       "    </tr>\n",
       "    <tr>\n",
       "      <th>641</th>\n",
       "      <td>Nike Air Max 98</td>\n",
       "      <td>AH6799-300</td>\n",
       "      <td>16995</td>\n",
       "      <td>Nike</td>\n",
       "      <td>The Nike Air Max 98 features the OG design lin...</td>\n",
       "    </tr>\n",
       "  </tbody>\n",
       "</table>\n",
       "<p>250 rows × 5 columns</p>\n",
       "</div>"
      ],
      "text/plain": [
       "                             Product Name  Product ID  Sale Price Brand  \\\n",
       "7                      Nike Free Metcon 3  CJ0861-017        9995  Nike   \n",
       "11                   Nike Air Force 1 '07  315115-112        7495  Nike   \n",
       "16             Nike Air Max 270 React ENG  CK2608-100       14995  Nike   \n",
       "18                   Nike Air Force 1 '07  CJ1379-001        7995  Nike   \n",
       "20                        Nike Air Max 97  CT4525-001       15995  Nike   \n",
       "..                                    ...         ...         ...   ...   \n",
       "636               Kyrie 6 'Enlightenment'  BQ4630-500        8797  Nike   \n",
       "637                 Nike React Metcon AMP  CT9155-063       13995  Nike   \n",
       "639            Nike Phantom Venom Club IC  AO0578-717        3497  Nike   \n",
       "640  Nike Mercurial Superfly 7 Academy TF  AT7978-414        5947  Nike   \n",
       "641                       Nike Air Max 98  AH6799-300       16995  Nike   \n",
       "\n",
       "                                           Description  \n",
       "7    The Nike Free Metcon 3 combines Nike Free flex...  \n",
       "11   The radiance lives on in the Nike Air Force 1 ...  \n",
       "16   Refresh your step in the Nike Air Max 270 Reac...  \n",
       "18   The legend lives on in the Nike Air Force 1 '0...  \n",
       "20   Remastered from the OG that shook up the runni...  \n",
       "..                                                 ...  \n",
       "636  In spiritual circles, the colour purple repres...  \n",
       "637  The Nike React Metcon AMP takes the stability ...  \n",
       "639  The Nike Phantom Venom Club IC is engineered f...  \n",
       "640  The soft upper of the Nike Mercurial Superfly ...  \n",
       "641  The Nike Air Max 98 features the OG design lin...  \n",
       "\n",
       "[250 rows x 5 columns]"
      ]
     },
     "execution_count": 51,
     "metadata": {},
     "output_type": "execute_result"
    }
   ],
   "source": [
    "my_nike[my_nike.duplicated(subset=['Product Name'])]"
   ]
  },
  {
   "cell_type": "code",
   "execution_count": 52,
   "id": "cardiac-arizona",
   "metadata": {},
   "outputs": [
    {
     "data": {
      "text/html": [
       "<div>\n",
       "<style scoped>\n",
       "    .dataframe tbody tr th:only-of-type {\n",
       "        vertical-align: middle;\n",
       "    }\n",
       "\n",
       "    .dataframe tbody tr th {\n",
       "        vertical-align: top;\n",
       "    }\n",
       "\n",
       "    .dataframe thead th {\n",
       "        text-align: right;\n",
       "    }\n",
       "</style>\n",
       "<table border=\"1\" class=\"dataframe\">\n",
       "  <thead>\n",
       "    <tr style=\"text-align: right;\">\n",
       "      <th></th>\n",
       "      <th>Product Name</th>\n",
       "      <th>Product ID</th>\n",
       "      <th>Sale Price</th>\n",
       "      <th>Brand</th>\n",
       "      <th>Description</th>\n",
       "    </tr>\n",
       "  </thead>\n",
       "  <tbody>\n",
       "    <tr>\n",
       "      <th>45</th>\n",
       "      <td>Nike Air Max 98</td>\n",
       "      <td>CJ0592-001</td>\n",
       "      <td>16995</td>\n",
       "      <td>Nike</td>\n",
       "      <td>Always one step ahead, the Nike Air Max 98 fea...</td>\n",
       "    </tr>\n",
       "    <tr>\n",
       "      <th>217</th>\n",
       "      <td>Nike Air Max 98</td>\n",
       "      <td>640744-016</td>\n",
       "      <td>10197</td>\n",
       "      <td>Nike</td>\n",
       "      <td>The Air Max 98 rode the wave of its legendary ...</td>\n",
       "    </tr>\n",
       "    <tr>\n",
       "      <th>584</th>\n",
       "      <td>Nike Air Max 98</td>\n",
       "      <td>CT1531-001</td>\n",
       "      <td>15995</td>\n",
       "      <td>Nike</td>\n",
       "      <td>At a local football club in the gritty Parisia...</td>\n",
       "    </tr>\n",
       "    <tr>\n",
       "      <th>597</th>\n",
       "      <td>Nike Air Max 98</td>\n",
       "      <td>CI3709-001</td>\n",
       "      <td>16995</td>\n",
       "      <td>Nike</td>\n",
       "      <td>The Nike Air Max 98 brings back retro Air Max ...</td>\n",
       "    </tr>\n",
       "    <tr>\n",
       "      <th>641</th>\n",
       "      <td>Nike Air Max 98</td>\n",
       "      <td>AH6799-300</td>\n",
       "      <td>16995</td>\n",
       "      <td>Nike</td>\n",
       "      <td>The Nike Air Max 98 features the OG design lin...</td>\n",
       "    </tr>\n",
       "  </tbody>\n",
       "</table>\n",
       "</div>"
      ],
      "text/plain": [
       "        Product Name  Product ID  Sale Price Brand  \\\n",
       "45   Nike Air Max 98  CJ0592-001       16995  Nike   \n",
       "217  Nike Air Max 98  640744-016       10197  Nike   \n",
       "584  Nike Air Max 98  CT1531-001       15995  Nike   \n",
       "597  Nike Air Max 98  CI3709-001       16995  Nike   \n",
       "641  Nike Air Max 98  AH6799-300       16995  Nike   \n",
       "\n",
       "                                           Description  \n",
       "45   Always one step ahead, the Nike Air Max 98 fea...  \n",
       "217  The Air Max 98 rode the wave of its legendary ...  \n",
       "584  At a local football club in the gritty Parisia...  \n",
       "597  The Nike Air Max 98 brings back retro Air Max ...  \n",
       "641  The Nike Air Max 98 features the OG design lin...  "
      ]
     },
     "execution_count": 52,
     "metadata": {},
     "output_type": "execute_result"
    }
   ],
   "source": []
  },
  {
   "cell_type": "code",
   "execution_count": null,
   "id": "experimental-monthly",
   "metadata": {},
   "outputs": [],
   "source": []
  }
 ],
 "metadata": {
  "kernelspec": {
   "display_name": "Python 3",
   "language": "python",
   "name": "python3"
  },
  "language_info": {
   "codemirror_mode": {
    "name": "ipython",
    "version": 3
   },
   "file_extension": ".py",
   "mimetype": "text/x-python",
   "name": "python",
   "nbconvert_exporter": "python",
   "pygments_lexer": "ipython3",
   "version": "3.8.5"
  }
 },
 "nbformat": 4,
 "nbformat_minor": 5
}
